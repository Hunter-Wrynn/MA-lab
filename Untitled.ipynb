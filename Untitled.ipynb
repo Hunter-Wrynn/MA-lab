{
 "cells": [
  {
   "cell_type": "code",
   "execution_count": 1,
   "id": "b24d8f4d",
   "metadata": {},
   "outputs": [
    {
     "name": "stdout",
     "output_type": "stream",
     "text": [
      "平均最短路径长度: 1.6666666666666667\n"
     ]
    }
   ],
   "source": [
    "import networkx as nx\n",
    "import numpy as np\n",
    "from collections import deque\n",
    "\n",
    "def global_network(num_nodes: int):\n",
    "    g = nx.Graph()\n",
    "    g.add_edges_from(np.vstack(np.triu_indices(num_nodes, k=1)).T)\n",
    "    return g\n",
    "\n",
    "def nearest_neighbor_network(num_nodes: int, k: int):\n",
    "    assert k % 2 == 0, \"K must be an even number\"\n",
    "\n",
    "    g = nx.Graph()\n",
    "    for offset in range(1, k // 2 + 1):\n",
    "        g.add_edges_from(\n",
    "            np.hstack(\n",
    "                [\n",
    "                    np.vstack(\n",
    "                        [np.arange(num_nodes), np.roll(np.arange(num_nodes), -offset)]\n",
    "                    ),\n",
    "                    np.vstack(\n",
    "                        [np.arange(num_nodes), np.roll(np.arange(num_nodes), offset)]\n",
    "                    ),\n",
    "                ],\n",
    "            ).T\n",
    "        )\n",
    "\n",
    "    return g\n",
    "\n",
    "def star_network(num_nodes: int):\n",
    "    g = nx.Graph()\n",
    "    g.add_edges_from(\n",
    "        np.vstack([np.repeat(0, num_nodes - 1), np.arange(1, num_nodes)]).T\n",
    "    )\n",
    "    return g\n",
    "\n",
    "def random_network(num_nodes: int, p: float):\n",
    "    assert 0 <= p <= 1, \"Probability p must be between 0 and 1.\"\n",
    "\n",
    "    g = nx.Graph()\n",
    "    upper_tri = np.triu(np.random.rand(num_nodes, num_nodes), 1)\n",
    "    upper_tri[upper_tri < p] = 1\n",
    "    upper_tri[upper_tri != 1] = 0\n",
    "    g.add_edges_from(np.column_stack(np.where((upper_tri + upper_tri.T) == 1)))\n",
    "\n",
    "    return g\n",
    "\n",
    "def bfs_shortest_path_length(g, start):\n",
    "    \"\"\"Breadth-first search to compute shortest path lengths from start node.\"\"\"\n",
    "    visited = {start: 0}\n",
    "    queue = deque([start])\n",
    "\n",
    "    while queue:\n",
    "        node = queue.popleft()\n",
    "        current_distance = visited[node]\n",
    "\n",
    "        for neighbor in g.neighbors(node):\n",
    "            if neighbor not in visited:\n",
    "                visited[neighbor] = current_distance + 1\n",
    "                queue.append(neighbor)\n",
    "\n",
    "    return visited\n",
    "\n",
    "def average_shortest_path_length(g):\n",
    "    n = len(g)\n",
    "    total_path_length = 0\n",
    "    for node in g:\n",
    "        shortest_path_lengths = bfs_shortest_path_length(g, node)\n",
    "        total_path_length += sum(shortest_path_lengths.values())\n",
    "\n",
    "    return total_path_length / (n * (n - 1))\n",
    "\n",
    "# 示例使用\n",
    "g = nearest_neighbor_network(10, 4)\n",
    "print(\"平均最短路径长度:\", average_shortest_path_length(g))\n"
   ]
  },
  {
   "cell_type": "code",
   "execution_count": null,
   "id": "445197e1",
   "metadata": {},
   "outputs": [],
   "source": []
  }
 ],
 "metadata": {
  "kernelspec": {
   "display_name": "Python 3 (ipykernel)",
   "language": "python",
   "name": "python3"
  },
  "language_info": {
   "codemirror_mode": {
    "name": "ipython",
    "version": 3
   },
   "file_extension": ".py",
   "mimetype": "text/x-python",
   "name": "python",
   "nbconvert_exporter": "python",
   "pygments_lexer": "ipython3",
   "version": "3.8.8"
  }
 },
 "nbformat": 4,
 "nbformat_minor": 5
}
